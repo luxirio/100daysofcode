{
 "cells": [
  {
   "cell_type": "code",
   "execution_count": null,
   "id": "4ccfb11f",
   "metadata": {},
   "outputs": [],
   "source": [
    "#Step 1 \n",
    "\n",
    "word_list = [\"aardvark\", \"baboon\", \"camel\"]\n",
    "#TODO-1 - Randomly choose a word from the word_list and assign it to a variable called chosen_word.\n",
    "import random\n",
    "chosen_word = random.choice(word_list)\n",
    "\n",
    "#TODO-2 - Ask the user to guess a letter and assign their answer to a variable called guess. Make guess lowercase.\n",
    "guess = input(\"Guess a letter: \").lower()\n",
    "\n",
    "#TODO-3 - Check if the letter the user guessed (guess) is one of the leters in the chosen_word.\n",
    "for letter in chosen_word:\n",
    "    if letter == guess:\n",
    "        print(\"Right\")\n",
    "    else:\n",
    "        print(\"Wrong\")"
   ]
  },
  {
   "cell_type": "code",
   "execution_count": 14,
   "id": "3853029e",
   "metadata": {},
   "outputs": [
    {
     "name": "stdout",
     "output_type": "stream",
     "text": [
      "Pssst, the solution is camel.\n",
      "_ _ _ _ _\n",
      "Guess a letter: a\n",
      "_ a _ _ _\n"
     ]
    }
   ],
   "source": [
    "import random\n",
    "word_list = [\"aardvark\", \"baboon\", \"camel\"]\n",
    "chosen_word = random.choice(word_list)\n",
    "\n",
    "#Testing code\n",
    "print(f'Pssst, the solution is {chosen_word}.')\n",
    "\n",
    "#TODO-1: - Create an empty List called display.\n",
    "\n",
    "#For each letter in the chosen_word, add a \"_\" to 'display'.\n",
    "#So if the chosen_word was \"apple\", display should be [\"_\", \"_\", \"_\", \"_\", \"_\"] with 5 \"_\" representing each letter to guess.\n",
    "\n",
    "blanks = []\n",
    "for i in range(len(chosen_word)):\n",
    "    blanks += \"_\"\n",
    "    \n",
    "print(\" \".join(blanks))\n",
    "\n",
    "guess = input(\"Guess a letter: \").lower()\n",
    "\n",
    "\n",
    "#TODO-2: - Loop through each position in the chosen_word;\n",
    "#If the letter at that position matches 'guess' then reveal that letter in the display at that position.\n",
    "#e.g. If the user guessed \"p\" and the chosen word was \"apple\", then display should be [\"_\", \"p\", \"p\", \"_\", \"_\"].\n",
    "for idx in range(len(chosen_word)):\n",
    "    letter = chosen_word[idx] \n",
    "    if letter == guess:\n",
    "        blanks[idx] = letter\n",
    "    else:\n",
    "        blanks[idx] = \"_\"\n",
    "print(\" \".join(blanks))\n",
    "\n",
    "#TODO-3: - Print 'display' and you should see the guessed letter in the correct position and every other letter replace with \"_\".\n",
    "#Hint - Don't worry about getting the user to guess the next letter. We'll tackle that in step 3."
   ]
  },
  {
   "cell_type": "code",
   "execution_count": 20,
   "id": "ba7c0b10",
   "metadata": {},
   "outputs": [
    {
     "name": "stdout",
     "output_type": "stream",
     "text": [
      "Pssst, the solution is camel.\n",
      "_ _ _ _ _\n",
      "Guess a letter: a\n",
      "_ a _ _ _\n",
      "Guess a letter: m\n",
      "_ a m _ _\n",
      "Guess a letter: e\n",
      "_ a m e _\n",
      "Guess a letter: l\n",
      "_ a m e l\n",
      "Guess a letter: c\n",
      "c a m e l\n",
      "Game over!\n"
     ]
    }
   ],
   "source": [
    "import random\n",
    "word_list = [\"aardvark\", \"baboon\", \"camel\"]\n",
    "chosen_word = random.choice(word_list)\n",
    "\n",
    "# Testing code\n",
    "print(f'Pssst, the solution is {chosen_word}.')\n",
    "\n",
    "# Generating the blank list with the same size of the chosen word\n",
    "blanks = []\n",
    "for i in range(len(chosen_word)):\n",
    "    blanks += \"_\"\n",
    "\n",
    "# Printing it pretty\n",
    "print(\" \".join(blanks))\n",
    "\n",
    "# The game properly\n",
    "while \"_\" in blanks:\n",
    "    guess = input(\"Guess a letter: \").lower()\n",
    "\n",
    "    for idx in range(len(chosen_word)):\n",
    "        letter = chosen_word[idx] \n",
    "        if letter == guess:\n",
    "            blanks[idx] = letter\n",
    "\n",
    "    print(\" \".join(blanks))\n",
    "\n",
    "# After the game finished\n",
    "print(\"You win! Game over!\")\n",
    "    "
   ]
  }
 ],
 "metadata": {
  "kernelspec": {
   "display_name": "Python 3 (ipykernel)",
   "language": "python",
   "name": "python3"
  },
  "language_info": {
   "codemirror_mode": {
    "name": "ipython",
    "version": 3
   },
   "file_extension": ".py",
   "mimetype": "text/x-python",
   "name": "python",
   "nbconvert_exporter": "python",
   "pygments_lexer": "ipython3",
   "version": "3.9.12"
  }
 },
 "nbformat": 4,
 "nbformat_minor": 5
}
