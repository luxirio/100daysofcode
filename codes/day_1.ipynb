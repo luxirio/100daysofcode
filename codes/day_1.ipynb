{
 "cells": [
  {
   "cell_type": "markdown",
   "id": "487edf39",
   "metadata": {},
   "source": [
    "### Dia 1 - 100 Days of Code\n",
    "Primeira linha de código, yey"
   ]
  },
  {
   "cell_type": "code",
   "execution_count": 3,
   "id": "d4b1f422",
   "metadata": {},
   "outputs": [
    {
     "name": "stdout",
     "output_type": "stream",
     "text": [
      "Hello World\n",
      "Day 1 - Python Print Function\n",
      "The function is declared like this:\n",
      "print('what to print')\n",
      "Day 1 - String Manipulation\n",
      "String Concatenation is done with the \"+\" sign.\n",
      "e.g. print(\"Hello \" + \"world\")\n",
      "New lines can be created with a backslash and n.\n"
     ]
    }
   ],
   "source": [
    "print(\"Hello World\")\n",
    "\n",
    "#Exercise 1\n",
    "print(\"Day 1 - Python Print Function\")\n",
    "print(\"The function is declared like this:\")\n",
    "print(\"print('what to print')\")\n",
    "\n",
    "#Exercise 2\n",
    "#Fix the code below 👇\n",
    "print(\"Day 1 - String Manipulation\")\n",
    "print(\"String Concatenation is done with the\" ' \"+\" ' \"sign.\")\n",
    "print('e.g. print(\"Hello \" + \"world\")')\n",
    "print(\"New lines can be created with a backslash and n.\")\n",
    "\n",
    "#Exercise 3\n",
    "#Write your code below this line 👇\n",
    "print(len(input(\"What is your name?\")))\n",
    "\n",
    "#Exercise 4\n",
    "# 🚨 Don't change the code below 👇\n",
    "a = input(\"a: \")\n",
    "b = input(\"b: \")\n",
    "# 🚨 Don't change the code above 👆\n",
    "\n",
    "####################################\n",
    "#Write your code below this line 👇\n",
    "a_to_b = b\n",
    "b = a\n",
    "a = a_to_b\n",
    "#Write your code above this line 👆\n",
    "####################################\n",
    "\n",
    "# 🚨 Don't change the code below 👇\n",
    "print(\"a: \" + a)\n",
    "print(\"b: \" + b)"
   ]
  },
  {
   "cell_type": "code",
   "execution_count": 5,
   "id": "d745a2f1",
   "metadata": {},
   "outputs": [
    {
     "name": "stdout",
     "output_type": "stream",
     "text": [
      "Welcome to the band generator program.\n",
      "Please, enter the city you grew up:\n",
      "Bristol\n",
      "Pleaes, enter your first pet name:\n",
      "rabbit\n",
      "The name of the band could be: Bristol rabbit\n"
     ]
    }
   ],
   "source": [
    "# Challenge: Band Name Generator\n",
    "\n",
    "print(\"Welcome to the band generator program.\")\n",
    "\n",
    "#Enter the city\n",
    "city = input(\"Please, enter the city you grew up:\\n\")\n",
    "\n",
    "#Enter the pet name\n",
    "pet = input(\"Please, enter your first pet name:\\n\")\n",
    "\n",
    "# Suggestion of the band:\n",
    "print(\"The name of the band could be: \" + city + \" \" + pet)\n"
   ]
  }
 ],
 "metadata": {
  "kernelspec": {
   "display_name": "Python 3 (ipykernel)",
   "language": "python",
   "name": "python3"
  },
  "language_info": {
   "codemirror_mode": {
    "name": "ipython",
    "version": 3
   },
   "file_extension": ".py",
   "mimetype": "text/x-python",
   "name": "python",
   "nbconvert_exporter": "python",
   "pygments_lexer": "ipython3",
   "version": "3.9.12"
  }
 },
 "nbformat": 4,
 "nbformat_minor": 5
}
