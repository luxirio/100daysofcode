{
 "cells": [
  {
   "cell_type": "code",
   "execution_count": 1,
   "id": "70417e9f",
   "metadata": {},
   "outputs": [],
   "source": [
    "logo = '''\n",
    "                         ___________\n",
    "                         \\         /\n",
    "                          )_______(\n",
    "                          |\"\"\"\"\"\"\"|_.-._,.---------.,_.-._\n",
    "                          |       | | |               | | ''-.\n",
    "                          |       |_| |_             _| |_..-'\n",
    "                          |_______| '-' `'---------'` '-'\n",
    "                          )\"\"\"\"\"\"\"(\n",
    "                         /_________\\\\\n",
    "                       .-------------.\n",
    "                      /_______________\\\\\n",
    "'''"
   ]
  },
  {
   "cell_type": "code",
   "execution_count": 2,
   "id": "fc3f5a5b",
   "metadata": {},
   "outputs": [
    {
     "name": "stdout",
     "output_type": "stream",
     "text": [
      "\n",
      "                         ___________\n",
      "                         \\         /\n",
      "                          )_______(\n",
      "                          |\"\"\"\"\"\"\"|_.-._,.---------.,_.-._\n",
      "                          |       | | |               | | ''-.\n",
      "                          |       |_| |_             _| |_..-'\n",
      "                          |_______| '-' `'---------'` '-'\n",
      "                          )\"\"\"\"\"\"\"(\n",
      "                         /_________\\\n",
      "                       .-------------.\n",
      "                      /_______________\\\n",
      "\n",
      "WELCOME TO THE SILENT BIDDING PROGRAM!\n",
      "Please, type your name: Gustavo\n",
      "Please, type how much you want to bid: $25\n",
      "This is the current dict {'Gustavo': 25}\n",
      "Is there any other bidder? Type yes or no: yes\n",
      "Please, type your name: Artur\n",
      "Please, type how much you want to bid: $28\n",
      "This is the current dict {'Gustavo': 25, 'Artur': 28}\n",
      "Is there any other bidder? Type yes or no: yes\n",
      "Please, type your name: Guaru\n",
      "Please, type how much you want to bid: $39\n",
      "This is the current dict {'Gustavo': 25, 'Artur': 28, 'Guaru': 39}\n",
      "Is there any other bidder? Type yes or no: no\n",
      "The max bid was 39 of Guaru\n"
     ]
    }
   ],
   "source": [
    "print(logo)\n",
    "print(\"WELCOME TO THE SILENT BIDDING PROGRAM!\")\n",
    "end_bid = False\n",
    "\n",
    "biding = {}\n",
    "\n",
    "while not end_bid:\n",
    "    \n",
    "    #Users inputs\n",
    "    user_name = input(\"Please, type your name: \")\n",
    "    money_bid = int(input(\"Please, type how much you want to bid: $\"))\n",
    "    \n",
    "    #Appending into the dictionary\n",
    "    biding[user_name] = money_bid\n",
    "    \n",
    "    print(f'This is the current dict {biding}')\n",
    "    \n",
    "    #If want to continue\n",
    "    any_bidder = input(\"Is there any other bidder? Type yes or no: \")\n",
    "    if any_bidder == \"yes\":\n",
    "        pass\n",
    "        #clear the screen\n",
    "    elif any_bidder == \"no\":\n",
    "        \n",
    "        #declaring initial maximum bidder and bid\n",
    "        max_bid = 0\n",
    "        max_bidder = \"\"\n",
    "        \n",
    "        #looping to find the maximum\n",
    "        for key in biding:\n",
    "            if biding[key] > max_bid:\n",
    "                max_bid = biding[key]\n",
    "                max_bidder = key\n",
    "        #Final print        \n",
    "        print(f'The max bid was {max_bid} of {max_bidder}')\n",
    "        \n",
    "        end_bid = True"
   ]
  }
 ],
 "metadata": {
  "kernelspec": {
   "display_name": "Python 3 (ipykernel)",
   "language": "python",
   "name": "python3"
  },
  "language_info": {
   "codemirror_mode": {
    "name": "ipython",
    "version": 3
   },
   "file_extension": ".py",
   "mimetype": "text/x-python",
   "name": "python",
   "nbconvert_exporter": "python",
   "pygments_lexer": "ipython3",
   "version": "3.9.12"
  }
 },
 "nbformat": 4,
 "nbformat_minor": 5
}
