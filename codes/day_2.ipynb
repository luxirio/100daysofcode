{
 "cells": [
  {
   "cell_type": "code",
   "execution_count": 1,
   "id": "1a958548",
   "metadata": {},
   "outputs": [
    {
     "name": "stdout",
     "output_type": "stream",
     "text": [
      "Type a two digit number: 33\n",
      "6\n"
     ]
    }
   ],
   "source": [
    "# Exercise 1\n",
    "# 🚨 Don't change the code below 👇\n",
    "two_digit_number = input(\"Type a two digit number: \")\n",
    "# 🚨 Don't change the code above 👆\n",
    "\n",
    "####################################\n",
    "#Write your code below this line 👇\n",
    "print(int(two_digit_number[0]) + int(two_digit_number[1]))"
   ]
  },
  {
   "cell_type": "code",
   "execution_count": 2,
   "id": "a4f9f7ae",
   "metadata": {},
   "outputs": [
    {
     "name": "stdout",
     "output_type": "stream",
     "text": [
      "enter your height in m: 1.8\n",
      "enter your weight in kg: 74\n",
      "22\n"
     ]
    }
   ],
   "source": [
    "# Exercise 2\n",
    "# 🚨 Don't change the code below 👇\n",
    "height = input(\"enter your height in m: \")\n",
    "weight = input(\"enter your weight in kg: \")\n",
    "# 🚨 Don't change the code above 👆\n",
    "\n",
    "#Write your code below this line 👇\n",
    "height = float(height)\n",
    "weight = float(weight)\n",
    "\n",
    "print(int(weight/(height*height)))"
   ]
  },
  {
   "cell_type": "code",
   "execution_count": 3,
   "id": "32331afd",
   "metadata": {},
   "outputs": [
    {
     "name": "stdout",
     "output_type": "stream",
     "text": [
      "What is your current age?25\n",
      "You have 23725 days, 3380 weeks, and 780 months left.\n"
     ]
    }
   ],
   "source": [
    "# 🚨 Don't change the code below 👇\n",
    "age = input(\"What is your current age?\")\n",
    "# 🚨 Don't change the code above 👆\n",
    "\n",
    "#Write your code below this line 👇\n",
    "months_90 = 90*12\n",
    "weeks_90 = 90*52\n",
    "days_90 = 90*365\n",
    "\n",
    "print(f'You have {days_90 - int(age)*365} days, {weeks_90 - int(age)*52} weeks, and {months_90 - int(age)*12} months left.')"
   ]
  },
  {
   "cell_type": "code",
   "execution_count": 9,
   "id": "58fa4c43",
   "metadata": {},
   "outputs": [
    {
     "name": "stdout",
     "output_type": "stream",
     "text": [
      "Welcome to the tip calculator.\n",
      "What was the total bill? $:124.56\n",
      "What % of the tip would you like to tip? 10, 12 or 15?: 12\n",
      "How many people to split the bill?: 7\n",
      " Each person should pay $19.93 dollars.\n"
     ]
    }
   ],
   "source": [
    "# Project day 2 - bill calculator\n",
    "print(\"Welcome to the tip calculator.\")\n",
    "\n",
    "bill = float(input(\"What was the total bill? $:\"))\n",
    "tip_perc = float(input(\"What % of the tip would you like to tip? 10, 12 or 15?: \"))\n",
    "n_people = int(input(\"How many people to split the bill?: \"))\n",
    "\n",
    "tip_plus_bill = ((tip_perc)/100)*(bill) + (bill)\n",
    "\n",
    "print(f' Each person should pay ${round(tip_plus_bill/(n_people), 2)} dollars.')"
   ]
  },
  {
   "cell_type": "code",
   "execution_count": null,
   "id": "1717d87b",
   "metadata": {},
   "outputs": [],
   "source": []
  }
 ],
 "metadata": {
  "kernelspec": {
   "display_name": "Python 3 (ipykernel)",
   "language": "python",
   "name": "python3"
  },
  "language_info": {
   "codemirror_mode": {
    "name": "ipython",
    "version": 3
   },
   "file_extension": ".py",
   "mimetype": "text/x-python",
   "name": "python",
   "nbconvert_exporter": "python",
   "pygments_lexer": "ipython3",
   "version": "3.9.12"
  }
 },
 "nbformat": 4,
 "nbformat_minor": 5
}
