{
 "cells": [
  {
   "cell_type": "code",
   "execution_count": null,
   "id": "a0bb9cbe",
   "metadata": {},
   "outputs": [],
   "source": [
    "# Exercise 1\n",
    "# 🚨 Don't change the code below 👇\n",
    "number = int(input(\"Which number do you want to check? \"))\n",
    "# 🚨 Don't change the code above 👆\n",
    "\n",
    "#Write your code below this line 👇\n",
    "if number % 2 == 0:\n",
    "    print(\"This is an even number.\")\n",
    "else:\n",
    "    print(\"This is an odd number.\")"
   ]
  },
  {
   "cell_type": "code",
   "execution_count": null,
   "id": "33753500",
   "metadata": {},
   "outputs": [],
   "source": [
    "#Exercise 2\n",
    "\n",
    "# 🚨 Don't change the code below 👇\n",
    "height = float(input(\"enter your height in m: \"))\n",
    "weight = float(input(\"enter your weight in kg: \"))\n",
    "# 🚨 Don't change the code above 👆\n",
    "\n",
    "#Write your code below this line 👇\n",
    "#Calculating BMI\n",
    "bmi = round(weight/height**2)\n",
    "\n",
    "if bmi <= 18.5:\n",
    "    print(f'Your BMI is {bmi}, you are underweight.')\n",
    "elif (bmi <= 25):\n",
    "    print(f'Your BMI is {bmi}, you have a normal weight.')\n",
    "elif (bmi <= 30):\n",
    "    print(f'Your BMI is {bmi}, you are slightly overweight.')\n",
    "elif (bmi <= 35):\n",
    "    print(f'Your BMI is {bmi}, you are obese.')\n",
    "else:\n",
    "    print(f'Your BMI is {bmi}, you are clinically obese.')"
   ]
  },
  {
   "cell_type": "code",
   "execution_count": null,
   "id": "44eb6ea9",
   "metadata": {},
   "outputs": [],
   "source": [
    "# Exercise 3\n",
    "\n",
    "# 🚨 Don't change the code below 👇\n",
    "year = int(input(\"Which year do you want to check? \"))\n",
    "# 🚨 Don't change the code above 👆\n",
    "\n",
    "#Write your code below this line 👇\n",
    "\n",
    "if year % 4 == 0:\n",
    "    \n",
    "    if year % 100 == 0:\n",
    "        if year % 400 == 0:\n",
    "            print(\"Leap year.\")\n",
    "        else:\n",
    "            print(\"Not leap year.\")\n",
    "    else: print(\"Leap year.\")\n",
    "        \n",
    "else: \n",
    "    print(\"Not leap year.\")\n"
   ]
  },
  {
   "cell_type": "code",
   "execution_count": null,
   "id": "c1a3d5d4",
   "metadata": {},
   "outputs": [],
   "source": [
    "# 🚨 Don't change the code below 👇\n",
    "print(\"Welcome to the Love Calculator!\")\n",
    "name1 = input(\"What is your name? \\n\")\n",
    "name2 = input(\"What is their name? \\n\")\n",
    "# 🚨 Don't change the code above 👆\n",
    "\n",
    "#Write your code below this line 👇\n",
    "combined = name1+name2\n",
    "\n",
    "#finding the true count\n",
    "t_times = combined.lower().count(\"t\")\n",
    "r_times = combined.lower().count(\"r\")\n",
    "u_times = combined.lower().count(\"u\")\n",
    "e_times = combined.lower().count(\"e\")\n",
    "\n",
    "true_times = t_times+r_times+u_times+e_times\n",
    "\n",
    "#finding the love count\n",
    "l_times = combined.lower().count(\"l\")\n",
    "o_times = combined.lower().count(\"o\")\n",
    "v_times = combined.lower().count(\"v\")\n",
    "ee_times = combined.lower().count(\"e\")\n",
    "\n",
    "love_times = l_times + o_times + v_times + ee_times\n",
    "\n",
    "score = str(true_times)+str(love_times)\n",
    "\n",
    "if (int(score) < 10) | (int(score) > 90):\n",
    "    print(f'Your score is {score}, you go together like coke and mentos.')\n",
    "elif (int(score) >= 40) & (int(score) <= 50):\n",
    "    print(f'Your score is {score}, you are alright together.')\n",
    "else: print(f'Your score is {score}.')"
   ]
  }
 ],
 "metadata": {
  "kernelspec": {
   "display_name": "Python 3 (ipykernel)",
   "language": "python",
   "name": "python3"
  },
  "language_info": {
   "codemirror_mode": {
    "name": "ipython",
    "version": 3
   },
   "file_extension": ".py",
   "mimetype": "text/x-python",
   "name": "python",
   "nbconvert_exporter": "python",
   "pygments_lexer": "ipython3",
   "version": "3.9.12"
  }
 },
 "nbformat": 4,
 "nbformat_minor": 5
}
