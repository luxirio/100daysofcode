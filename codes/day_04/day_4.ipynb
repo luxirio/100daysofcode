{
 "cells": [
  {
   "cell_type": "code",
   "execution_count": 1,
   "id": "ac56c2e2",
   "metadata": {},
   "outputs": [
    {
     "name": "stdout",
     "output_type": "stream",
     "text": [
      "Create a seed number: 23\n",
      "Heads\n"
     ]
    }
   ],
   "source": [
    "# Exercise 1\n",
    "#Remember to use the random module\n",
    "#Hint: Remember to import the random module here at the top of the file. 🎲\n",
    "import random\n",
    "# 🚨 Don't change the code below 👇\n",
    "test_seed = int(input(\"Create a seed number: \"))\n",
    "random.seed(test_seed)\n",
    " # 🚨 Don't change the code above 👆 It's only for testing your code.\n",
    "#Write the rest of your code below this line 👇\n",
    "random_side = random.randint(0,1)\n",
    "if random_side == 1:\n",
    "    print(\"Heads\")\n",
    "else: print(\"Tails\")"
   ]
  },
  {
   "cell_type": "code",
   "execution_count": null,
   "id": "0aa0c903",
   "metadata": {},
   "outputs": [],
   "source": [
    "# Exercise 2\n",
    "import random\n",
    "# 🚨 Don't change the code below 👇\n",
    "test_seed = int(input(\"Create a seed number: \"))\n",
    "random.seed(test_seed)\n",
    "\n",
    "# Split string method\n",
    "names_string = input(\"Give me everybody's names, separated by a comma. \")\n",
    "names = names_string.split(\", \")\n",
    "# 🚨 Don't change the code above 👆\n",
    "\n",
    "#Write your code below this line 👇\n",
    "chosen_one = (random.randint(0,len(names)-1))\n",
    "\n",
    "print(f'{names[chosen_one]} is going to buy the meal today!')"
   ]
  },
  {
   "cell_type": "code",
   "execution_count": null,
   "id": "c0ba6c06",
   "metadata": {},
   "outputs": [],
   "source": [
    "# Exercise 3\n",
    "\n",
    "# 🚨 Don't change the code below 👇\n",
    "row1 = [\"⬜️\",\"⬜️\",\"⬜️\"]\n",
    "row2 = [\"⬜️\",\"⬜️\",\"⬜️\"]\n",
    "row3 = [\"⬜️\",\"⬜️\",\"⬜️\"]\n",
    "map = [row1, row2, row3]\n",
    "print(f\"{row1}\\n{row2}\\n{row3}\")\n",
    "position = input(\"Where do you want to put the treasure? \")\n",
    "# 🚨 Don't change the code above 👆\n",
    "\n",
    "#Write your code below this row 👇\n",
    "vertical = int(position[0]) #2\n",
    "horizontal = int(position[1]) #3\n",
    "\n",
    "linha_selecionada = map[horizontal - 1]\n",
    "linha_selecionada[vertical - 1] = \"X\"\n",
    "#Write your code above this row 👆\n",
    "# 🚨 Don't change the code below 👇\n",
    "print(f\"{row1}\\n{row2}\\n{row3}\")"
   ]
  },
  {
   "cell_type": "code",
   "execution_count": 14,
   "id": "a3146e71",
   "metadata": {},
   "outputs": [
    {
     "name": "stdout",
     "output_type": "stream",
     "text": [
      "What do you choose? Type 0 for Rock, 1 for Paper or 2 for Scissors2\n",
      "\n",
      "    _______\n",
      "---'   ____)____\n",
      "          ______)\n",
      "       __________)\n",
      "      (____)\n",
      "---.__(___)\n",
      "\n",
      "\n",
      "\n",
      "    _______\n",
      "---'   ____)____\n",
      "          ______)\n",
      "          _______)\n",
      "         _______)\n",
      "---.__________)\n",
      "\n",
      "You win\n"
     ]
    }
   ],
   "source": [
    "import random\n",
    "\n",
    "rock = ''' \n",
    "    _______\n",
    "---'   ____)\n",
    "      (_____)\n",
    "      (_____)\n",
    "      (____)\n",
    "---.__(___)\n",
    "\n",
    "'''\n",
    "\n",
    "paper = '''\n",
    "    _______\n",
    "---'   ____)____\n",
    "          ______)\n",
    "          _______)\n",
    "         _______)\n",
    "---.__________)\n",
    "'''\n",
    "\n",
    "scissors = '''\n",
    "    _______\n",
    "---'   ____)____\n",
    "          ______)\n",
    "       __________)\n",
    "      (____)\n",
    "---.__(___)\n",
    "\n",
    "'''\n",
    "\n",
    "\n",
    "user_selection = int(input(\"What do you choose? Type 0 for Rock, 1 for Paper or 2 for Scissors\"))\n",
    "\n",
    "options = [rock, paper, scissors]\n",
    "computer_options = [0, 1, 2]\n",
    "\n",
    "# The computer chose:\n",
    "computer_choice = random.choice(computer_options)\n",
    "\n",
    "print(options[user_selection])\n",
    "print(options[computer_choice])\n",
    "\n",
    "#The user chose rock\n",
    "if (user_selection == 0 & computer_choice == 2):\n",
    "    print(\"You win\")\n",
    "elif (user_selection > computer_choice):\n",
    "    print(\"You win\")\n",
    "elif (user_selection == 2 & computer_choice == 0):\n",
    "    print(\"You lose\")\n",
    "elif (user_selection == computer_choice):\n",
    "    print(\"Draw\")\n",
    "else:\n",
    "    print(\"You lose\")"
   ]
  },
  {
   "cell_type": "code",
   "execution_count": null,
   "id": "d0d92380",
   "metadata": {},
   "outputs": [],
   "source": [
    "\n"
   ]
  }
 ],
 "metadata": {
  "kernelspec": {
   "display_name": "Python 3 (ipykernel)",
   "language": "python",
   "name": "python3"
  },
  "language_info": {
   "codemirror_mode": {
    "name": "ipython",
    "version": 3
   },
   "file_extension": ".py",
   "mimetype": "text/x-python",
   "name": "python",
   "nbconvert_exporter": "python",
   "pygments_lexer": "ipython3",
   "version": "3.9.12"
  }
 },
 "nbformat": 4,
 "nbformat_minor": 5
}
